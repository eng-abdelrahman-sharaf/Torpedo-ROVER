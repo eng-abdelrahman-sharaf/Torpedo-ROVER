{
 "cells": [
  {
   "cell_type": "code",
   "execution_count": 122,
   "metadata": {},
   "outputs": [],
   "source": [
    "import cv2\n",
    "import numpy as np"
   ]
  },
  {
   "cell_type": "markdown",
   "metadata": {},
   "source": [
    "# Detection Methods"
   ]
  },
  {
   "cell_type": "code",
   "execution_count": 123,
   "metadata": {},
   "outputs": [],
   "source": [
    "def drawCenter(cx , cy , frame):\n",
    "        cv2.circle(frame, (cx, cy), 5, (0, 0, 255), -1)\n",
    "    \n",
    "def getMaxContourCenter(processedImage , frame):\n",
    "    contours, _  = cv2.findContours(processedImage, cv2.RETR_LIST, cv2.CHAIN_APPROX_SIMPLE)\n",
    "    if(len(contours)==0):\n",
    "        return None\n",
    "    max_contour = max(contours, key=cv2.contourArea)\n",
    "    M = cv2.moments(max_contour)\n",
    "    try:\n",
    "        cx = int(M[\"m10\"] / M[\"m00\"])\n",
    "        cy = int(M[\"m01\"] / M[\"m00\"])\n",
    "        drawCenter(cx , cy , frame)\n",
    "        for contour in contours:\n",
    "            c = contour\n",
    "            if(c is max_contour):\n",
    "                cv2.drawContours(frame, c, -1, (0, 255 , 0 ), 3)\n",
    "            else: \n",
    "                cv2.drawContours(frame, c, -1, (0, 0, 255), 3)\n",
    "        return cx , cy\n",
    "    except ZeroDivisionError:\n",
    "        print(\"Zero Division Error\")\n",
    "        return None"
   ]
  },
  {
   "cell_type": "markdown",
   "metadata": {},
   "source": [
    "# Global Config"
   ]
  },
  {
   "cell_type": "code",
   "execution_count": 124,
   "metadata": {},
   "outputs": [],
   "source": [
    "kernel_size = 5\n",
    "low_threshold = 10\n",
    "high_threshold = 50"
   ]
  },
  {
   "cell_type": "markdown",
   "metadata": {},
   "source": [
    "### Method of Canny"
   ]
  },
  {
   "cell_type": "code",
   "execution_count": 125,
   "metadata": {},
   "outputs": [],
   "source": [
    "def canny(frame):\n",
    "    gray = cv2.cvtColor(frame, cv2.COLOR_BGR2GRAY)\n",
    "    \n",
    "    blur = cv2.GaussianBlur(gray, (kernel_size, kernel_size), 0)\n",
    "    \n",
    "    # Apply Canny edge detection\n",
    "    # edges = cv2.Canny(blur, low_threshold, high_threshold)\n",
    "\n",
    "    edges = cv2.Laplacian(blur, -1, ksize=5)\n",
    "\n",
    "    edges = cv2.medianBlur(edges,9)\n",
    "\n",
    "    # edges = cv2.GaussianBlur(edges, (kernel_size, kernel_size), 0)\n",
    "\n",
    "\n",
    "    kernal = np.ones((3, 3), np.uint8)\n",
    "    # edges = cv2.dilate(edges, kernal, iterations=10)\n",
    "    edges = cv2.erode(edges, kernal, iterations=1)\n",
    "    # edges = cv2.dilate(edges, kernal, iterations=10)\n",
    "\n",
    "    cv2.imshow('canny', edges)\n",
    "\n",
    "    return getMaxContourCenter(edges , frame)"
   ]
  },
  {
   "cell_type": "markdown",
   "metadata": {},
   "source": [
    "### Method of houghLines"
   ]
  },
  {
   "cell_type": "code",
   "execution_count": 126,
   "metadata": {},
   "outputs": [],
   "source": [
    "rho = 1  # distance resolution in pixels of the Hough grid\n",
    "theta = np.pi / 180  # angular resolution in radians of the Hough grid\n",
    "threshold = 15  # minimum number of votes (intersections in Hough grid cell)\n",
    "min_line_length = 100  # minimum number of pixels making up a line\n",
    "max_line_gap = 50  # maximum gap in pixels between connectable line segments"
   ]
  },
  {
   "cell_type": "code",
   "execution_count": 127,
   "metadata": {},
   "outputs": [],
   "source": [
    "def houghLines(frame):\n",
    "    gray = cv2.cvtColor(frame, cv2.COLOR_BGR2GRAY)\n",
    "    blur_gray = cv2.GaussianBlur(gray,(kernel_size, kernel_size),0)\n",
    "    edges = cv2.Canny(blur_gray, low_threshold, high_threshold)\n",
    "    \n",
    "\n",
    "    # Run Hough on edge detected image\n",
    "    # Output \"lines\" is an array containing endpoints of detected line segments\n",
    "    lines = cv2.HoughLinesP(edges, rho, theta, threshold, np.array([]),\n",
    "                        min_line_length, max_line_gap)\n",
    "\n",
    "\n",
    "    line_image = np.copy(frame) * 0  # creating a blank to draw lines on\n",
    "    if lines is None:\n",
    "        return None\n",
    "    for line in lines:\n",
    "        for x1,y1,x2,y2 in line:\n",
    "            cv2.line(line_image,(x1,y1),(x2,y2),(255,0,0),5)\n",
    "    \n",
    "    cv2.imshow('hough', line_image)"
   ]
  },
  {
   "cell_type": "markdown",
   "metadata": {},
   "source": [
    "### Using color Detection"
   ]
  },
  {
   "cell_type": "code",
   "execution_count": 128,
   "metadata": {},
   "outputs": [],
   "source": [
    "def detect_black(frame):\n",
    "\n",
    "    black_line = cv2.inRange(frame, (0, 0, 0), (40, 40, 40))\n",
    "\n",
    "    kernel = np.ones((3, 3), np.uint8)\n",
    "    black_line = cv2.dilate(black_line, kernel, iterations=2)\n",
    "\n",
    "    cv2.imshow(\"black_line\", black_line)\n",
    "    return getMaxContourCenter(black_line , frame)"
   ]
  },
  {
   "cell_type": "markdown",
   "metadata": {},
   "source": [
    "### Using Thresholding"
   ]
  },
  {
   "cell_type": "code",
   "execution_count": 129,
   "metadata": {},
   "outputs": [],
   "source": [
    "def thresh(frame):\n",
    "    \n",
    "    gray = cv2.cvtColor(frame, cv2.COLOR_BGR2GRAY)\n",
    "    blur = cv2.medianBlur(gray,5)\n",
    "\n",
    "    res = cv2.adaptiveThreshold(blur,255,cv2.ADAPTIVE_THRESH_GAUSSIAN_C, cv2.THRESH_BINARY_INV,11,2)\n",
    "    cv2.imshow('thresh', res)\n",
    "    "
   ]
  },
  {
   "cell_type": "code",
   "execution_count": 130,
   "metadata": {},
   "outputs": [],
   "source": [
    "cap = cv2.VideoCapture(0)\n",
    "cap.open(\"http://192.168.1.3:8080/video\")\n",
    "\n",
    "if not cap.isOpened():\n",
    "    print(\"Cannot open camera\")\n",
    "    exit()\n",
    "\n",
    "while True:\n",
    "    ret, frame = cap.read()\n",
    "    frame = cv2.rotate( frame, cv2.ROTATE_90_CLOCKWISE)\n",
    "    frame = cv2.resize(frame, (640, 480))\n",
    "    \n",
    "    # canny(frame)\n",
    "    # houghLines(frame)\n",
    "    detect_black(frame)\n",
    "    # thresh(frame)\n",
    "\n",
    "    cv2.imshow('frame', frame)\n",
    "    key = cv2.waitKey(1) & 0xFF\t\n",
    "    if key == ord(\"q\"):\n",
    "        break\n",
    "\n",
    "cap.release()\n",
    "cv2.destroyAllWindows()"
   ]
  }
 ],
 "metadata": {
  "kernelspec": {
   "display_name": "Python 3",
   "language": "python",
   "name": "python3"
  },
  "language_info": {
   "codemirror_mode": {
    "name": "ipython",
    "version": 3
   },
   "file_extension": ".py",
   "mimetype": "text/x-python",
   "name": "python",
   "nbconvert_exporter": "python",
   "pygments_lexer": "ipython3",
   "version": "3.12.4"
  }
 },
 "nbformat": 4,
 "nbformat_minor": 2
}
