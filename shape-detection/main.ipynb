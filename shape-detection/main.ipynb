{
 "cells": [
  {
   "cell_type": "code",
   "execution_count": 5,
   "metadata": {},
   "outputs": [],
   "source": [
    "import cv2\n",
    "import numpy as np"
   ]
  },
  {
   "cell_type": "code",
   "execution_count": null,
   "metadata": {},
   "outputs": [],
   "source": []
  },
  {
   "cell_type": "code",
   "execution_count": 6,
   "metadata": {},
   "outputs": [],
   "source": [
    "def detect_color(hue):\n",
    "    # Determine the color based on hue\n",
    "    if 45/2 <= hue < 75/2:  # Yellow\n",
    "        return f\"Yellow{hue}\"\n",
    "    elif 105/2 <= hue < 135/2:  # Green\n",
    "        return f\"Green{hue}\"\n",
    "    elif 225/2 <= hue < 255/2:  # Blue\n",
    "        return f\"Blue{hue}\"\n",
    "    else:  # Red\n",
    "        return f\"Red{hue}\"\n"
   ]
  },
  {
   "cell_type": "code",
   "execution_count": 7,
   "metadata": {},
   "outputs": [],
   "source": [
    "def shape_and_color(frame):\n",
    "    # removing noise\n",
    "    blur = cv2.GaussianBlur(frame, (3, 3), 0)\n",
    "\n",
    "    # removing points can exist on the image\n",
    "    blur = cv2.medianBlur(blur, 5)\n",
    "    \n",
    "    edges = cv2.Canny(blur, 40 , 80)\n",
    "\n",
    "    # morphological operation if the edge is not complete\n",
    "    kernel = np.ones((3,3), np.uint8)\n",
    "    edges = cv2.dilate(edges, kernel, iterations=2)\n",
    "\n",
    "    cv2.imshow(\"Edges\", edges)\n",
    "\n",
    "    contours, _ = cv2.findContours(edges, cv2.RETR_TREE, cv2.CHAIN_APPROX_SIMPLE)\n",
    "\n",
    "    shape:str\n",
    "\n",
    "    if(len(contours) == 0 ): \n",
    "        shape = \"None\"\n",
    "    else:\n",
    "        contour = max(contours, key=cv2.contourArea)\n",
    "        approx = cv2.approxPolyDP(contour, 0.02 * cv2.arcLength(contour, True), True)\n",
    "\n",
    "\n",
    "        hsv_image = cv2.cvtColor(frame, cv2.COLOR_BGR2HSV)  # Convert the image to HSV\n",
    "        mask = np.zeros(hsv_image.shape[:-1] , dtype=np.uint8)  # Create a new mask for each shape\n",
    "        # print(\"mask shape: \", mask.shape , \"hsv_image shape: \", hsv_image.shape)\n",
    "        cv2.drawContours(mask, [contour], -1, 255, -1)  # Fill the shape on the mask\n",
    "        h,*_ = cv2.mean(hsv_image, mask=mask)  # Get the mean color\n",
    "        color = detect_color(h)\n",
    "        \n",
    "\n",
    "        if len(approx) == 3:\n",
    "            shape = \"Triangle\"\n",
    "        elif len(approx) == 4:\n",
    "            shape = \"Square\"\n",
    "        elif len(approx) > 4:\n",
    "            shape = \"Circle\"\n",
    "        else:\n",
    "            shape = \"Unkown\"\n",
    "\n",
    "        # Draw the shape on the image\n",
    "        cv2.putText(frame, shape+color , (10, 50), cv2.FONT_HERSHEY_SIMPLEX, 0.5, (0, 255, 0), 2)\n",
    "\n",
    "    cv2.imshow(\"Shapes\", frame)\n"
   ]
  },
  {
   "cell_type": "markdown",
   "metadata": {},
   "source": []
  },
  {
   "cell_type": "code",
   "execution_count": 8,
   "metadata": {},
   "outputs": [],
   "source": [
    "cap = cv2.VideoCapture(0)\n",
    "cap.open(\"http://192.168.43.1:8080/video\")\n",
    "\n",
    "if not cap.isOpened():\n",
    "    print(\"Cannot open camera\")\n",
    "    exit()\n",
    "\n",
    "while True:\n",
    "    ret, frame = cap.read()\n",
    "    # frame = cv2.rotate( frame, cv2.ROTATE_90_CLOCKWISE)\n",
    "    frame = cv2.resize(frame, (640, 480))\n",
    "    \n",
    "    shape_and_color(frame)\n",
    "\n",
    "    cv2.imshow('frame', frame)\n",
    "    key = cv2.waitKey(1) & 0xFF\t\n",
    "    if key == ord(\"q\"):\n",
    "        break\n",
    "\n",
    "cap.release()\n",
    "cv2.destroyAllWindows()"
   ]
  }
 ],
 "metadata": {
  "kernelspec": {
   "display_name": "Python 3",
   "language": "python",
   "name": "python3"
  },
  "language_info": {
   "codemirror_mode": {
    "name": "ipython",
    "version": 3
   },
   "file_extension": ".py",
   "mimetype": "text/x-python",
   "name": "python",
   "nbconvert_exporter": "python",
   "pygments_lexer": "ipython3",
   "version": "3.12.4"
  }
 },
 "nbformat": 4,
 "nbformat_minor": 2
}
